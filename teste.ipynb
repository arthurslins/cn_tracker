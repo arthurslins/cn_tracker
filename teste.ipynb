{
 "cells": [
  {
   "cell_type": "code",
   "execution_count": 2,
   "metadata": {},
   "outputs": [
    {
     "name": "stderr",
     "output_type": "stream",
     "text": [
      "2022-07-01 20:18:54.173 INFO    numexpr.utils: NumExpr defaulting to 8 threads.\n"
     ]
    }
   ],
   "source": [
    "import streamlit as st\n",
    "import pandas as pd\n",
    "import numpy as np\n",
    "import requests\n",
    "from selenium import webdriver\n",
    "from selenium.common.exceptions import TimeoutException\n",
    "from selenium.webdriver.common.by import By\n",
    "from selenium.webdriver.firefox.options import Options\n",
    "from selenium.webdriver.firefox.service import Service\n",
    "from selenium.webdriver.support import expected_conditions as EC\n",
    "from selenium.webdriver.support.ui import WebDriverWait\n",
    "from webdriver_manager.firefox import GeckoDriverManager\n",
    "from selenium.webdriver.firefox.firefox_binary import FirefoxBinary"
   ]
  },
  {
   "cell_type": "code",
   "execution_count": 3,
   "metadata": {},
   "outputs": [],
   "source": [
    "df_cn=pd.read_csv('df_cn.csv')\n",
    "df_cn2=pd.read_csv('parcial.csv')\n",
    "df_cn2.drop('Unnamed: 0',axis=1,inplace=True)"
   ]
  },
  {
   "cell_type": "code",
   "execution_count": 4,
   "metadata": {},
   "outputs": [],
   "source": [
    "driver = webdriver.Chrome()\n",
    "driver.get(\"https://lol.qq.com/tft/#/rank/tier\")"
   ]
  },
  {
   "cell_type": "code",
   "execution_count": 5,
   "metadata": {},
   "outputs": [],
   "source": [
    "df_cn=pd.DataFrame([],columns=['Nick','PDL','Jogos','link'])"
   ]
  },
  {
   "cell_type": "code",
   "execution_count": 6,
   "metadata": {},
   "outputs": [],
   "source": [
    "cn_list=driver.find_element('xpath','//*[@id=\"appMain\"]/div[1]/div/div[2]/div[2]')\n"
   ]
  },
  {
   "cell_type": "code",
   "execution_count": 16,
   "metadata": {},
   "outputs": [],
   "source": [
    "df_cn=pd.DataFrame([],columns=['Nick','PDL','Jogos','link'])\n",
    "for i in range(0,13):\n",
    "    cn_list=driver.find_element('xpath','//*[@id=\"appMain\"]/div[1]/div/div[2]/div[2]')\n",
    "    cn_list2=cn_list.text.split('%\\n')\n",
    "    del cn_list2[1::2]\n",
    "    cn_list3=[]\n",
    "    for i in range(0,len(cn_list2)):\n",
    "        cn_list3.append(cn_list2[i].split('\\n'))\n",
    "\n",
    "    for i in range(0,9):\n",
    "        if cn_list3[i][0].isdigit():\n",
    "            del cn_list3[i][0]\n",
    "\n",
    "    for i in range(0,len(cn_list3)):\n",
    "    \n",
    "        del cn_list3[i][1]\n",
    "        del cn_list3[i][3]"
   ]
  },
  {
   "cell_type": "code",
   "execution_count": 17,
   "metadata": {},
   "outputs": [
    {
     "data": {
      "text/plain": [
       "[['斗鱼AG丨60second', '1874', '332'],\n",
       " ['虎牙歌神弃徒x', '1730', '357'],\n",
       " ['斗鱼迅哥', '1714', '286'],\n",
       " ['小小炼药师', '1630', '153'],\n",
       " ['BilibiliDys丶bbx', '1614', '364'],\n",
       " ['虎牙丶赛寒', '1605', '455'],\n",
       " ['斗鱼丶Flancy', '1582', '327'],\n",
       " ['虎牙冲榜赛战文欲', '1500', '360'],\n",
       " ['斗鱼EL丶陈仔', '1460', '326'],\n",
       " ['斗鱼sudowoodoi', '1424', '375']]"
      ]
     },
     "execution_count": 17,
     "metadata": {},
     "output_type": "execute_result"
    }
   ],
   "source": [
    "cn_list3"
   ]
  },
  {
   "cell_type": "code",
   "execution_count": null,
   "metadata": {},
   "outputs": [],
   "source": []
  },
  {
   "cell_type": "code",
   "execution_count": 11,
   "metadata": {},
   "outputs": [],
   "source": [
    "next_page=driver.find_elements(by=By.CLASS_NAME,value='page-item')"
   ]
  },
  {
   "cell_type": "code",
   "execution_count": 15,
   "metadata": {},
   "outputs": [
    {
     "data": {
      "text/plain": [
       "'下一页'"
      ]
     },
     "execution_count": 15,
     "metadata": {},
     "output_type": "execute_result"
    }
   ],
   "source": [
    "next_page[-2].text"
   ]
  },
  {
   "cell_type": "code",
   "execution_count": null,
   "metadata": {},
   "outputs": [],
   "source": []
  }
 ],
 "metadata": {
  "kernelspec": {
   "display_name": "Python 3.9.7 ('base')",
   "language": "python",
   "name": "python3"
  },
  "language_info": {
   "codemirror_mode": {
    "name": "ipython",
    "version": 3
   },
   "file_extension": ".py",
   "mimetype": "text/x-python",
   "name": "python",
   "nbconvert_exporter": "python",
   "pygments_lexer": "ipython3",
   "version": "3.9.7"
  },
  "orig_nbformat": 4,
  "vscode": {
   "interpreter": {
    "hash": "4792c8a16b18a0d31b4ef2970d7dfac3ed6a469cd3baece18b5e61ffaee06ba8"
   }
  }
 },
 "nbformat": 4,
 "nbformat_minor": 2
}
