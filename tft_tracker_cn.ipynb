{
 "cells": [
  {
   "cell_type": "code",
   "execution_count": 285,
   "metadata": {},
   "outputs": [],
   "source": [
    "import pandas as pd\n",
    "import numpy as np\n",
    "import requests\n",
    "from selenium import webdriver\n",
    "from selenium.webdriver.common.by import By\n",
    "\n"
   ]
  },
  {
   "cell_type": "code",
   "execution_count": 270,
   "metadata": {},
   "outputs": [],
   "source": [
    "driver = webdriver.Chrome()\n",
    "driver.get(\"https://lol.qq.com/tft/#/rank/tier\")"
   ]
  },
  {
   "cell_type": "code",
   "execution_count": 271,
   "metadata": {},
   "outputs": [
    {
     "name": "stderr",
     "output_type": "stream",
     "text": [
      "C:\\Users\\arthu\\AppData\\Local\\Temp/ipykernel_9072/4019669069.py:1: DeprecationWarning: find_element_by_xpath is deprecated. Please use find_element(by=By.XPATH, value=xpath) instead\n",
      "  cn_list=driver.find_element_by_xpath('//*[@id=\"appMain\"]/div[1]/div/div[2]/div[2]')\n"
     ]
    }
   ],
   "source": [
    "cn_list=driver.find_element_by_xpath('//*[@id=\"appMain\"]/div[1]/div/div[2]/div[2]')"
   ]
  },
  {
   "cell_type": "code",
   "execution_count": 299,
   "metadata": {},
   "outputs": [],
   "source": [
    "cn_list=driver.find_elements(by=By.CLASS_NAME,value='nickname')"
   ]
  },
  {
   "cell_type": "code",
   "execution_count": 304,
   "metadata": {},
   "outputs": [
    {
     "name": "stdout",
     "output_type": "stream",
     "text": [
      "https://lol.qq.com/tft/#/masterDetail/85241ab9-d2d1-5805-99cb-6e16af269cc9/1\n"
     ]
    }
   ],
   "source": [
    "print(driver.current_url)"
   ]
  },
  {
   "cell_type": "code",
   "execution_count": 310,
   "metadata": {},
   "outputs": [],
   "source": [
    "urls=[]\n",
    "for i in range(0,10):\n",
    "    cn_list[i].click()\n",
    "    urls.append(driver.current_url)\n",
    "    driver.back()"
   ]
  },
  {
   "cell_type": "code",
   "execution_count": 311,
   "metadata": {},
   "outputs": [
    {
     "data": {
      "text/plain": [
       "['https://lol.qq.com/tft/#/masterDetail/85241ab9-d2d1-5805-99cb-6e16af269cc9/1',\n",
       " 'https://lol.qq.com/tft/#/masterDetail/a575e265-0729-5b92-82d6-afb7956fe9d0/1',\n",
       " 'https://lol.qq.com/tft/#/masterDetail/11d84314-9e4d-5f6b-8bf1-fcb9a27dc591/1',\n",
       " 'https://lol.qq.com/tft/#/masterDetail/cb929150-21bf-5dab-a762-29961bb57f50/1',\n",
       " 'https://lol.qq.com/tft/#/masterDetail/e6d29ac2-8c18-5098-a886-5f7227d7bb1f/1',\n",
       " 'https://lol.qq.com/tft/#/masterDetail/7102ec04-d576-5bb9-b602-685f3023011c/1',\n",
       " 'https://lol.qq.com/tft/#/masterDetail/c4ec0e15-aaff-5490-9e57-e5865b60cdb4/1',\n",
       " 'https://lol.qq.com/tft/#/masterDetail/920aa21a-6bab-5295-8ff1-c25bb6ee3492/1',\n",
       " 'https://lol.qq.com/tft/#/masterDetail/048641ac-b713-5a97-a9f6-88a1eff24f23/1',\n",
       " 'https://lol.qq.com/tft/#/masterDetail/a3d04a01-8730-55d7-9445-14618d349611/1']"
      ]
     },
     "execution_count": 311,
     "metadata": {},
     "output_type": "execute_result"
    }
   ],
   "source": [
    "urls"
   ]
  },
  {
   "cell_type": "code",
   "execution_count": 233,
   "metadata": {},
   "outputs": [],
   "source": [
    "cn_list2=cn_list.text.split('%\\n')"
   ]
  },
  {
   "cell_type": "code",
   "execution_count": 234,
   "metadata": {},
   "outputs": [],
   "source": [
    "del cn_list2[1::2]"
   ]
  },
  {
   "cell_type": "code",
   "execution_count": 235,
   "metadata": {},
   "outputs": [
    {
     "data": {
      "text/plain": [
       "['斗鱼AG丨60second\\n最强王者\\n1813\\n319\\n20.4',\n",
       " '斗鱼迅哥\\n最强王者\\n1706\\n282\\n24.2',\n",
       " '虎牙歌神弃徒x\\n最强王者\\n1670\\n348\\n22.2',\n",
       " '4\\n小小炼药师\\n最强王者\\n1643\\n146\\n28.8',\n",
       " '5\\n虎牙冲榜赛战文欲\\n最强王者\\n1638\\n352\\n18.2',\n",
       " '6\\nBilibiliDys丶bbx\\n最强王者\\n1614\\n360\\n22.0',\n",
       " '7\\n斗鱼丶Flancy\\n最强王者\\n1561\\n312\\n22.2',\n",
       " '8\\n虎牙冲榜赛丶天龙\\n最强王者\\n1488\\n380\\n18.5',\n",
       " '9\\n斗鱼EL丶陈仔\\n最强王者\\n1460\\n326\\n23.1',\n",
       " '10\\n斗鱼sudowoodoi\\n最强王者\\n1424\\n375\\n20.0']"
      ]
     },
     "execution_count": 235,
     "metadata": {},
     "output_type": "execute_result"
    }
   ],
   "source": [
    "cn_list2"
   ]
  },
  {
   "cell_type": "code",
   "execution_count": 261,
   "metadata": {},
   "outputs": [],
   "source": [
    "cn_list3=[]\n",
    "for i in range(0,len(cn_list2)):\n",
    "    cn_list3.append(cn_list2[i].split('\\n'))"
   ]
  },
  {
   "cell_type": "code",
   "execution_count": 262,
   "metadata": {},
   "outputs": [
    {
     "data": {
      "text/plain": [
       "True"
      ]
     },
     "execution_count": 262,
     "metadata": {},
     "output_type": "execute_result"
    }
   ],
   "source": [
    "cn_list3[3][0].isdigit()"
   ]
  },
  {
   "cell_type": "code",
   "execution_count": 263,
   "metadata": {},
   "outputs": [],
   "source": [
    "for i in range(0,10):\n",
    "    if cn_list3[i][0].isdigit():\n",
    "        del cn_list3[i][0]"
   ]
  },
  {
   "cell_type": "code",
   "execution_count": 264,
   "metadata": {},
   "outputs": [
    {
     "data": {
      "text/plain": [
       "[['斗鱼AG丨60second', '最强王者', '1813', '319', '20.4'],\n",
       " ['斗鱼迅哥', '最强王者', '1706', '282', '24.2'],\n",
       " ['虎牙歌神弃徒x', '最强王者', '1670', '348', '22.2'],\n",
       " ['小小炼药师', '最强王者', '1643', '146', '28.8'],\n",
       " ['虎牙冲榜赛战文欲', '最强王者', '1638', '352', '18.2'],\n",
       " ['BilibiliDys丶bbx', '最强王者', '1614', '360', '22.0'],\n",
       " ['斗鱼丶Flancy', '最强王者', '1561', '312', '22.2'],\n",
       " ['虎牙冲榜赛丶天龙', '最强王者', '1488', '380', '18.5'],\n",
       " ['斗鱼EL丶陈仔', '最强王者', '1460', '326', '23.1'],\n",
       " ['斗鱼sudowoodoi', '最强王者', '1424', '375', '20.0']]"
      ]
     },
     "execution_count": 264,
     "metadata": {},
     "output_type": "execute_result"
    }
   ],
   "source": [
    "cn_list3"
   ]
  },
  {
   "cell_type": "code",
   "execution_count": 268,
   "metadata": {},
   "outputs": [
    {
     "name": "stdout",
     "output_type": "stream",
     "text": [
      "0\n",
      "1\n",
      "2\n",
      "3\n",
      "4\n",
      "5\n",
      "6\n",
      "7\n",
      "8\n",
      "9\n"
     ]
    }
   ],
   "source": [
    "for i in range(0,len(cn_list3)):\n",
    "       \n",
    "    del cn_list3[i][1]\n",
    "    del cn_list3[i][3]\n",
    "    \n"
   ]
  },
  {
   "cell_type": "code",
   "execution_count": 269,
   "metadata": {},
   "outputs": [
    {
     "data": {
      "text/plain": [
       "[['斗鱼AG丨60second', '1813', '319'],\n",
       " ['斗鱼迅哥', '1706', '282'],\n",
       " ['虎牙歌神弃徒x', '1670', '348'],\n",
       " ['小小炼药师', '1643', '146'],\n",
       " ['虎牙冲榜赛战文欲', '1638', '352'],\n",
       " ['BilibiliDys丶bbx', '1614', '360'],\n",
       " ['斗鱼丶Flancy', '1561', '312'],\n",
       " ['虎牙冲榜赛丶天龙', '1488', '380'],\n",
       " ['斗鱼EL丶陈仔', '1460', '326'],\n",
       " ['斗鱼sudowoodoi', '1424', '375']]"
      ]
     },
     "execution_count": 269,
     "metadata": {},
     "output_type": "execute_result"
    }
   ],
   "source": [
    "cn_list3"
   ]
  },
  {
   "cell_type": "code",
   "execution_count": 190,
   "metadata": {},
   "outputs": [
    {
     "name": "stderr",
     "output_type": "stream",
     "text": [
      "C:\\Users\\arthu\\AppData\\Local\\Temp/ipykernel_9072/799113582.py:1: DeprecationWarning: find_element_by_xpath is deprecated. Please use find_element(by=By.XPATH, value=xpath) instead\n",
      "  next_page=driver.find_element_by_xpath('//*[@id=\"appMain\"]/div[1]/div/div[2]/div[3]/ul/li[9]')\n"
     ]
    }
   ],
   "source": [
    "next_page=driver.find_element_by_xpath('//*[@id=\"appMain\"]/div[1]/div/div[2]/div[3]/ul/li[9]')"
   ]
  },
  {
   "cell_type": "code",
   "execution_count": 191,
   "metadata": {},
   "outputs": [],
   "source": [
    "next_page.click()"
   ]
  },
  {
   "cell_type": "code",
   "execution_count": null,
   "metadata": {},
   "outputs": [],
   "source": []
  },
  {
   "cell_type": "code",
   "execution_count": 230,
   "metadata": {},
   "outputs": [
    {
     "ename": "WebDriverException",
     "evalue": "Message: chrome not reachable\n  (Session info: chrome=103.0.5060.66)\nStacktrace:\nBacktrace:\n\tOrdinal0 [0x00E46463+2188387]\n\tOrdinal0 [0x00DDE461+1762401]\n\tOrdinal0 [0x00CF3C40+801856]\n\tOrdinal0 [0x00CE8932+756018]\n\tOrdinal0 [0x00CE9168+758120]\n\tOrdinal0 [0x00CEAA22+764450]\n\tOrdinal0 [0x00CE4379+738169]\n\tOrdinal0 [0x00CF50D0+807120]\n\tOrdinal0 [0x00D4C402+1164290]\n\tOrdinal0 [0x00D3C5F6+1099254]\n\tOrdinal0 [0x00D16BE0+945120]\n\tOrdinal0 [0x00D17AD6+948950]\n\tGetHandleVerifier [0x010E71F2+2712546]\n\tGetHandleVerifier [0x010D886D+2652765]\n\tGetHandleVerifier [0x00ED002A+520730]\n\tGetHandleVerifier [0x00ECEE06+516086]\n\tOrdinal0 [0x00DE468B+1787531]\n\tOrdinal0 [0x00DE8E88+1805960]\n\tOrdinal0 [0x00DE8F75+1806197]\n\tOrdinal0 [0x00DF1DF1+1842673]\n\tBaseThreadInitThunk [0x754EFA29+25]\n\tRtlGetAppContainerNamedObjectPath [0x77037A9E+286]\n\tRtlGetAppContainerNamedObjectPath [0x77037A6E+238]\n",
     "output_type": "error",
     "traceback": [
      "\u001b[1;31m---------------------------------------------------------------------------\u001b[0m",
      "\u001b[1;31mWebDriverException\u001b[0m                        Traceback (most recent call last)",
      "\u001b[1;32m~\\AppData\\Local\\Temp/ipykernel_9072/1549034616.py\u001b[0m in \u001b[0;36m<module>\u001b[1;34m\u001b[0m\n\u001b[1;32m----> 1\u001b[1;33m \u001b[0mcn_list2\u001b[0m\u001b[1;33m=\u001b[0m\u001b[0mlist\u001b[0m\u001b[1;33m(\u001b[0m\u001b[0msplit\u001b[0m\u001b[1;33m(\u001b[0m\u001b[0mcn_list\u001b[0m\u001b[1;33m.\u001b[0m\u001b[0mtext\u001b[0m\u001b[1;33m.\u001b[0m\u001b[0msplit\u001b[0m\u001b[1;33m(\u001b[0m\u001b[1;34m'\\n'\u001b[0m\u001b[1;33m)\u001b[0m\u001b[1;33m,\u001b[0m \u001b[1;36m12\u001b[0m\u001b[1;33m)\u001b[0m\u001b[1;33m)\u001b[0m\u001b[1;33m\u001b[0m\u001b[1;33m\u001b[0m\u001b[0m\n\u001b[0m",
      "\u001b[1;32mc:\\Users\\arthu\\Anaconda3\\lib\\site-packages\\selenium\\webdriver\\remote\\webelement.py\u001b[0m in \u001b[0;36mtext\u001b[1;34m(self)\u001b[0m\n\u001b[0;32m     83\u001b[0m     \u001b[1;32mdef\u001b[0m \u001b[0mtext\u001b[0m\u001b[1;33m(\u001b[0m\u001b[0mself\u001b[0m\u001b[1;33m)\u001b[0m \u001b[1;33m->\u001b[0m \u001b[0mstr\u001b[0m\u001b[1;33m:\u001b[0m\u001b[1;33m\u001b[0m\u001b[1;33m\u001b[0m\u001b[0m\n\u001b[0;32m     84\u001b[0m         \u001b[1;34m\"\"\"The text of the element.\"\"\"\u001b[0m\u001b[1;33m\u001b[0m\u001b[1;33m\u001b[0m\u001b[0m\n\u001b[1;32m---> 85\u001b[1;33m         \u001b[1;32mreturn\u001b[0m \u001b[0mself\u001b[0m\u001b[1;33m.\u001b[0m\u001b[0m_execute\u001b[0m\u001b[1;33m(\u001b[0m\u001b[0mCommand\u001b[0m\u001b[1;33m.\u001b[0m\u001b[0mGET_ELEMENT_TEXT\u001b[0m\u001b[1;33m)\u001b[0m\u001b[1;33m[\u001b[0m\u001b[1;34m'value'\u001b[0m\u001b[1;33m]\u001b[0m\u001b[1;33m\u001b[0m\u001b[1;33m\u001b[0m\u001b[0m\n\u001b[0m\u001b[0;32m     86\u001b[0m \u001b[1;33m\u001b[0m\u001b[0m\n\u001b[0;32m     87\u001b[0m     \u001b[1;32mdef\u001b[0m \u001b[0mclick\u001b[0m\u001b[1;33m(\u001b[0m\u001b[0mself\u001b[0m\u001b[1;33m)\u001b[0m \u001b[1;33m->\u001b[0m \u001b[1;32mNone\u001b[0m\u001b[1;33m:\u001b[0m\u001b[1;33m\u001b[0m\u001b[1;33m\u001b[0m\u001b[0m\n",
      "\u001b[1;32mc:\\Users\\arthu\\Anaconda3\\lib\\site-packages\\selenium\\webdriver\\remote\\webelement.py\u001b[0m in \u001b[0;36m_execute\u001b[1;34m(self, command, params)\u001b[0m\n\u001b[0;32m    771\u001b[0m             \u001b[0mparams\u001b[0m \u001b[1;33m=\u001b[0m \u001b[1;33m{\u001b[0m\u001b[1;33m}\u001b[0m\u001b[1;33m\u001b[0m\u001b[1;33m\u001b[0m\u001b[0m\n\u001b[0;32m    772\u001b[0m         \u001b[0mparams\u001b[0m\u001b[1;33m[\u001b[0m\u001b[1;34m'id'\u001b[0m\u001b[1;33m]\u001b[0m \u001b[1;33m=\u001b[0m \u001b[0mself\u001b[0m\u001b[1;33m.\u001b[0m\u001b[0m_id\u001b[0m\u001b[1;33m\u001b[0m\u001b[1;33m\u001b[0m\u001b[0m\n\u001b[1;32m--> 773\u001b[1;33m         \u001b[1;32mreturn\u001b[0m \u001b[0mself\u001b[0m\u001b[1;33m.\u001b[0m\u001b[0m_parent\u001b[0m\u001b[1;33m.\u001b[0m\u001b[0mexecute\u001b[0m\u001b[1;33m(\u001b[0m\u001b[0mcommand\u001b[0m\u001b[1;33m,\u001b[0m \u001b[0mparams\u001b[0m\u001b[1;33m)\u001b[0m\u001b[1;33m\u001b[0m\u001b[1;33m\u001b[0m\u001b[0m\n\u001b[0m\u001b[0;32m    774\u001b[0m \u001b[1;33m\u001b[0m\u001b[0m\n\u001b[0;32m    775\u001b[0m     \u001b[1;32mdef\u001b[0m \u001b[0mfind_element\u001b[0m\u001b[1;33m(\u001b[0m\u001b[0mself\u001b[0m\u001b[1;33m,\u001b[0m \u001b[0mby\u001b[0m\u001b[1;33m=\u001b[0m\u001b[0mBy\u001b[0m\u001b[1;33m.\u001b[0m\u001b[0mID\u001b[0m\u001b[1;33m,\u001b[0m \u001b[0mvalue\u001b[0m\u001b[1;33m=\u001b[0m\u001b[1;32mNone\u001b[0m\u001b[1;33m)\u001b[0m\u001b[1;33m:\u001b[0m\u001b[1;33m\u001b[0m\u001b[1;33m\u001b[0m\u001b[0m\n",
      "\u001b[1;32mc:\\Users\\arthu\\Anaconda3\\lib\\site-packages\\selenium\\webdriver\\remote\\webdriver.py\u001b[0m in \u001b[0;36mexecute\u001b[1;34m(self, driver_command, params)\u001b[0m\n\u001b[0;32m    428\u001b[0m         \u001b[0mresponse\u001b[0m \u001b[1;33m=\u001b[0m \u001b[0mself\u001b[0m\u001b[1;33m.\u001b[0m\u001b[0mcommand_executor\u001b[0m\u001b[1;33m.\u001b[0m\u001b[0mexecute\u001b[0m\u001b[1;33m(\u001b[0m\u001b[0mdriver_command\u001b[0m\u001b[1;33m,\u001b[0m \u001b[0mparams\u001b[0m\u001b[1;33m)\u001b[0m\u001b[1;33m\u001b[0m\u001b[1;33m\u001b[0m\u001b[0m\n\u001b[0;32m    429\u001b[0m         \u001b[1;32mif\u001b[0m \u001b[0mresponse\u001b[0m\u001b[1;33m:\u001b[0m\u001b[1;33m\u001b[0m\u001b[1;33m\u001b[0m\u001b[0m\n\u001b[1;32m--> 430\u001b[1;33m             \u001b[0mself\u001b[0m\u001b[1;33m.\u001b[0m\u001b[0merror_handler\u001b[0m\u001b[1;33m.\u001b[0m\u001b[0mcheck_response\u001b[0m\u001b[1;33m(\u001b[0m\u001b[0mresponse\u001b[0m\u001b[1;33m)\u001b[0m\u001b[1;33m\u001b[0m\u001b[1;33m\u001b[0m\u001b[0m\n\u001b[0m\u001b[0;32m    431\u001b[0m             response['value'] = self._unwrap_value(\n\u001b[0;32m    432\u001b[0m                 response.get('value', None))\n",
      "\u001b[1;32mc:\\Users\\arthu\\Anaconda3\\lib\\site-packages\\selenium\\webdriver\\remote\\errorhandler.py\u001b[0m in \u001b[0;36mcheck_response\u001b[1;34m(self, response)\u001b[0m\n\u001b[0;32m    245\u001b[0m                 \u001b[0malert_text\u001b[0m \u001b[1;33m=\u001b[0m \u001b[0mvalue\u001b[0m\u001b[1;33m[\u001b[0m\u001b[1;34m'alert'\u001b[0m\u001b[1;33m]\u001b[0m\u001b[1;33m.\u001b[0m\u001b[0mget\u001b[0m\u001b[1;33m(\u001b[0m\u001b[1;34m'text'\u001b[0m\u001b[1;33m)\u001b[0m\u001b[1;33m\u001b[0m\u001b[1;33m\u001b[0m\u001b[0m\n\u001b[0;32m    246\u001b[0m             \u001b[1;32mraise\u001b[0m \u001b[0mexception_class\u001b[0m\u001b[1;33m(\u001b[0m\u001b[0mmessage\u001b[0m\u001b[1;33m,\u001b[0m \u001b[0mscreen\u001b[0m\u001b[1;33m,\u001b[0m \u001b[0mstacktrace\u001b[0m\u001b[1;33m,\u001b[0m \u001b[0malert_text\u001b[0m\u001b[1;33m)\u001b[0m  \u001b[1;31m# type: ignore[call-arg]  # mypy is not smart enough here\u001b[0m\u001b[1;33m\u001b[0m\u001b[1;33m\u001b[0m\u001b[0m\n\u001b[1;32m--> 247\u001b[1;33m         \u001b[1;32mraise\u001b[0m \u001b[0mexception_class\u001b[0m\u001b[1;33m(\u001b[0m\u001b[0mmessage\u001b[0m\u001b[1;33m,\u001b[0m \u001b[0mscreen\u001b[0m\u001b[1;33m,\u001b[0m \u001b[0mstacktrace\u001b[0m\u001b[1;33m)\u001b[0m\u001b[1;33m\u001b[0m\u001b[1;33m\u001b[0m\u001b[0m\n\u001b[0m\u001b[0;32m    248\u001b[0m \u001b[1;33m\u001b[0m\u001b[0m\n\u001b[0;32m    249\u001b[0m     \u001b[1;32mdef\u001b[0m \u001b[0m_value_or_default\u001b[0m\u001b[1;33m(\u001b[0m\u001b[0mself\u001b[0m\u001b[1;33m,\u001b[0m \u001b[0mobj\u001b[0m\u001b[1;33m:\u001b[0m \u001b[0mMapping\u001b[0m\u001b[1;33m[\u001b[0m\u001b[0m_KT\u001b[0m\u001b[1;33m,\u001b[0m \u001b[0m_VT\u001b[0m\u001b[1;33m]\u001b[0m\u001b[1;33m,\u001b[0m \u001b[0mkey\u001b[0m\u001b[1;33m:\u001b[0m \u001b[0m_KT\u001b[0m\u001b[1;33m,\u001b[0m \u001b[0mdefault\u001b[0m\u001b[1;33m:\u001b[0m \u001b[0m_VT\u001b[0m\u001b[1;33m)\u001b[0m \u001b[1;33m->\u001b[0m \u001b[0m_VT\u001b[0m\u001b[1;33m:\u001b[0m\u001b[1;33m\u001b[0m\u001b[1;33m\u001b[0m\u001b[0m\n",
      "\u001b[1;31mWebDriverException\u001b[0m: Message: chrome not reachable\n  (Session info: chrome=103.0.5060.66)\nStacktrace:\nBacktrace:\n\tOrdinal0 [0x00E46463+2188387]\n\tOrdinal0 [0x00DDE461+1762401]\n\tOrdinal0 [0x00CF3C40+801856]\n\tOrdinal0 [0x00CE8932+756018]\n\tOrdinal0 [0x00CE9168+758120]\n\tOrdinal0 [0x00CEAA22+764450]\n\tOrdinal0 [0x00CE4379+738169]\n\tOrdinal0 [0x00CF50D0+807120]\n\tOrdinal0 [0x00D4C402+1164290]\n\tOrdinal0 [0x00D3C5F6+1099254]\n\tOrdinal0 [0x00D16BE0+945120]\n\tOrdinal0 [0x00D17AD6+948950]\n\tGetHandleVerifier [0x010E71F2+2712546]\n\tGetHandleVerifier [0x010D886D+2652765]\n\tGetHandleVerifier [0x00ED002A+520730]\n\tGetHandleVerifier [0x00ECEE06+516086]\n\tOrdinal0 [0x00DE468B+1787531]\n\tOrdinal0 [0x00DE8E88+1805960]\n\tOrdinal0 [0x00DE8F75+1806197]\n\tOrdinal0 [0x00DF1DF1+1842673]\n\tBaseThreadInitThunk [0x754EFA29+25]\n\tRtlGetAppContainerNamedObjectPath [0x77037A9E+286]\n\tRtlGetAppContainerNamedObjectPath [0x77037A6E+238]\n"
     ]
    }
   ],
   "source": [
    "cn_list2=list(split(cn_list.text.split('\\n'), 12))"
   ]
  },
  {
   "cell_type": "code",
   "execution_count": 86,
   "metadata": {},
   "outputs": [
    {
     "data": {
      "text/plain": [
       "'斗鱼AG丨60second\\n最强王者\\n1813\\n319\\n20.4%\\n68.7%\\n斗鱼迅哥\\n最强王者\\n1706\\n282\\n24.2%\\n66.7%\\n虎牙歌神弃徒x\\n最强王者\\n1670\\n348\\n22.2%\\n63.6%\\n4\\n小小炼药师\\n最强王者\\n1643\\n146\\n28.8%\\n74.7%\\n5\\n虎牙冲榜赛战文欲\\n最强王者\\n1638\\n352\\n18.2%\\n61.1%\\n6\\nBilibiliDys丶bbx\\n最强王者\\n1614\\n360\\n22.0%\\n58.7%\\n7\\n斗鱼丶Flancy\\n最强王者\\n1561\\n312\\n22.2%\\n60.3%\\n8\\n虎牙冲榜赛丶天龙\\n最强王者\\n1488\\n380\\n18.5%\\n62.9%\\n9\\n斗鱼EL丶陈仔\\n最强王者\\n1460\\n326\\n23.1%\\n63.2%\\n10\\n斗鱼sudowoodoi\\n最强王者\\n1424\\n375\\n20.0%\\n59.8%'"
      ]
     },
     "execution_count": 86,
     "metadata": {},
     "output_type": "execute_result"
    }
   ],
   "source": [
    "cn_list"
   ]
  },
  {
   "cell_type": "code",
   "execution_count": 267,
   "metadata": {},
   "outputs": [
    {
     "data": {
      "text/plain": [
       "['斗鱼AG丨60second\\n最强王者\\n1813\\n319\\n20.4',\n",
       " '斗鱼迅哥\\n最强王者\\n1706\\n282\\n24.2',\n",
       " '虎牙歌神弃徒x\\n最强王者\\n1670\\n348\\n22.2',\n",
       " '4\\n小小炼药师\\n最强王者\\n1643\\n146\\n28.8',\n",
       " '5\\n虎牙冲榜赛战文欲\\n最强王者\\n1638\\n352\\n18.2',\n",
       " '6\\nBilibiliDys丶bbx\\n最强王者\\n1614\\n360\\n22.0',\n",
       " '7\\n斗鱼丶Flancy\\n最强王者\\n1561\\n312\\n22.2',\n",
       " '8\\n虎牙冲榜赛丶天龙\\n最强王者\\n1488\\n380\\n18.5',\n",
       " '9\\n斗鱼EL丶陈仔\\n最强王者\\n1460\\n326\\n23.1',\n",
       " '10\\n斗鱼sudowoodoi\\n最强王者\\n1424\\n375\\n20.0']"
      ]
     },
     "execution_count": 267,
     "metadata": {},
     "output_type": "execute_result"
    }
   ],
   "source": [
    "cn_list2"
   ]
  },
  {
   "cell_type": "code",
   "execution_count": 266,
   "metadata": {},
   "outputs": [
    {
     "data": {
      "text/plain": [
       "'斗鱼AG丨60second\\n最强王者\\n1813\\n319\\n20.4'"
      ]
     },
     "execution_count": 266,
     "metadata": {},
     "output_type": "execute_result"
    }
   ],
   "source": [
    "cn_list2[0]"
   ]
  },
  {
   "cell_type": "code",
   "execution_count": 265,
   "metadata": {},
   "outputs": [
    {
     "name": "stdout",
     "output_type": "stream",
     "text": [
      "0\n"
     ]
    },
    {
     "ename": "TypeError",
     "evalue": "'str' object doesn't support item deletion",
     "output_type": "error",
     "traceback": [
      "\u001b[1;31m---------------------------------------------------------------------------\u001b[0m",
      "\u001b[1;31mTypeError\u001b[0m                                 Traceback (most recent call last)",
      "\u001b[1;32m~\\AppData\\Local\\Temp/ipykernel_9072/1874291158.py\u001b[0m in \u001b[0;36m<module>\u001b[1;34m\u001b[0m\n\u001b[0;32m      1\u001b[0m \u001b[1;32mfor\u001b[0m \u001b[0mi\u001b[0m \u001b[1;32min\u001b[0m \u001b[0mrange\u001b[0m\u001b[1;33m(\u001b[0m\u001b[1;36m0\u001b[0m\u001b[1;33m,\u001b[0m\u001b[0mlen\u001b[0m\u001b[1;33m(\u001b[0m\u001b[0mcn_list2\u001b[0m\u001b[1;33m)\u001b[0m\u001b[1;33m)\u001b[0m\u001b[1;33m:\u001b[0m\u001b[1;33m\u001b[0m\u001b[1;33m\u001b[0m\u001b[0m\n\u001b[0;32m      2\u001b[0m     \u001b[0mprint\u001b[0m\u001b[1;33m(\u001b[0m\u001b[0mi\u001b[0m\u001b[1;33m)\u001b[0m\u001b[1;33m\u001b[0m\u001b[1;33m\u001b[0m\u001b[0m\n\u001b[1;32m----> 3\u001b[1;33m     \u001b[1;32mdel\u001b[0m \u001b[0mcn_list2\u001b[0m\u001b[1;33m[\u001b[0m\u001b[0mi\u001b[0m\u001b[1;33m]\u001b[0m\u001b[1;33m[\u001b[0m\u001b[1;36m1\u001b[0m\u001b[1;33m]\u001b[0m\u001b[1;33m\u001b[0m\u001b[1;33m\u001b[0m\u001b[0m\n\u001b[0m\u001b[0;32m      4\u001b[0m     \u001b[1;32mdel\u001b[0m \u001b[0mcn_list2\u001b[0m\u001b[1;33m[\u001b[0m\u001b[0mi\u001b[0m\u001b[1;33m]\u001b[0m\u001b[1;33m[\u001b[0m\u001b[1;36m3\u001b[0m\u001b[1;33m]\u001b[0m\u001b[1;33m\u001b[0m\u001b[1;33m\u001b[0m\u001b[0m\n\u001b[0;32m      5\u001b[0m     \u001b[1;32mdel\u001b[0m \u001b[0mcn_list2\u001b[0m\u001b[1;33m[\u001b[0m\u001b[0mi\u001b[0m\u001b[1;33m]\u001b[0m\u001b[1;33m[\u001b[0m\u001b[1;36m3\u001b[0m\u001b[1;33m]\u001b[0m\u001b[1;33m\u001b[0m\u001b[1;33m\u001b[0m\u001b[0m\n",
      "\u001b[1;31mTypeError\u001b[0m: 'str' object doesn't support item deletion"
     ]
    }
   ],
   "source": [
    "for i in range(0,len(cn_list2)):\n",
    "    print(i)    \n",
    "    del cn_list2[i][1]\n",
    "    del cn_list2[i][3]\n",
    "    del cn_list2[i][3]\n"
   ]
  },
  {
   "cell_type": "code",
   "execution_count": 76,
   "metadata": {},
   "outputs": [
    {
     "data": {
      "text/plain": [
       "['62.9%', '9', '斗鱼EL丶陈仔', '最强王者', '1460']"
      ]
     },
     "execution_count": 76,
     "metadata": {},
     "output_type": "execute_result"
    }
   ],
   "source": [
    "cn_list2[9]"
   ]
  },
  {
   "cell_type": "code",
   "execution_count": 67,
   "metadata": {},
   "outputs": [
    {
     "data": {
      "text/plain": [
       "['斗鱼AG丨60second', '1813', '319']"
      ]
     },
     "execution_count": 67,
     "metadata": {},
     "output_type": "execute_result"
    }
   ],
   "source": [
    "cn_list2[0]"
   ]
  },
  {
   "cell_type": "code",
   "execution_count": 222,
   "metadata": {},
   "outputs": [],
   "source": [
    "df_cn=pd.DataFrame(cn_list3,columns=['Nick','zz','PDL','Jogos','aa'])\n",
    "df_cn.drop(['zz','aa'],axis=1,inplace=True)"
   ]
  },
  {
   "cell_type": "code",
   "execution_count": 224,
   "metadata": {},
   "outputs": [],
   "source": [
    "df_cn=pd.DataFrame([],columns=['Nick','zz','PDL','Jogos','aa'])"
   ]
  },
  {
   "cell_type": "code",
   "execution_count": 229,
   "metadata": {},
   "outputs": [],
   "source": [
    "df_cn.to_csv('df_cn.csv',index=False)"
   ]
  },
  {
   "cell_type": "code",
   "execution_count": null,
   "metadata": {},
   "outputs": [],
   "source": []
  }
 ],
 "metadata": {
  "kernelspec": {
   "display_name": "Python 3.9.7 ('base')",
   "language": "python",
   "name": "python3"
  },
  "language_info": {
   "codemirror_mode": {
    "name": "ipython",
    "version": 3
   },
   "file_extension": ".py",
   "mimetype": "text/x-python",
   "name": "python",
   "nbconvert_exporter": "python",
   "pygments_lexer": "ipython3",
   "version": "3.9.7"
  },
  "orig_nbformat": 4,
  "vscode": {
   "interpreter": {
    "hash": "4792c8a16b18a0d31b4ef2970d7dfac3ed6a469cd3baece18b5e61ffaee06ba8"
   }
  }
 },
 "nbformat": 4,
 "nbformat_minor": 2
}
